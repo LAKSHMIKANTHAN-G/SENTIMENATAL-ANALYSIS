{
 "cells": [
  {
   "cell_type": "code",
   "execution_count": 1,
   "id": "56d2ef21",
   "metadata": {},
   "outputs": [
    {
     "name": "stdout",
     "output_type": "stream",
     "text": [
      "You are loser but you play a good game--------------------------- {'neg': 0.145, 'neu': 0.396, 'pos': 0.459, 'compound': 0.6956}\n"
     ]
    }
   ],
   "source": [
    "from vaderSentiment.vaderSentiment import SentimentIntensityAnalyzer\n",
    "Sentences=[\"You are loser but you play a good game\"]\n",
    "analyzer=SentimentIntensityAnalyzer()\n",
    "\n",
    "for sentence in Sentences:\n",
    "    a=analyzer.polarity_scores(sentence)\n",
    "    print(\"{:-<65} {}\".format(sentence,str(a)))"
   ]
  },
  {
   "cell_type": "code",
   "execution_count": null,
   "id": "2a2fe329",
   "metadata": {},
   "outputs": [],
   "source": []
  }
 ],
 "metadata": {
  "kernelspec": {
   "display_name": "Python 3 (ipykernel)",
   "language": "python",
   "name": "python3"
  },
  "language_info": {
   "codemirror_mode": {
    "name": "ipython",
    "version": 3
   },
   "file_extension": ".py",
   "mimetype": "text/x-python",
   "name": "python",
   "nbconvert_exporter": "python",
   "pygments_lexer": "ipython3",
   "version": "3.9.6"
  }
 },
 "nbformat": 4,
 "nbformat_minor": 5
}
